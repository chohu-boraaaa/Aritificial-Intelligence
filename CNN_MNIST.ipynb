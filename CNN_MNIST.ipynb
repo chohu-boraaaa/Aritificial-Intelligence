{
  "nbformat": 4,
  "nbformat_minor": 0,
  "metadata": {
    "colab": {
      "name": "합성곱 신경망 실습.ipynb",
      "provenance": [],
      "authorship_tag": "ABX9TyP/byGa6ckY9wN8dn9yc/QL",
      "include_colab_link": true
    },
    "kernelspec": {
      "name": "python3",
      "display_name": "Python 3"
    },
    "language_info": {
      "name": "python"
    }
  },
  "cells": [
    {
      "cell_type": "markdown",
      "metadata": {
        "id": "view-in-github",
        "colab_type": "text"
      },
      "source": [
        "<a href=\"https://colab.research.google.com/github/chohu-boraaaa/Artificial-Intelligence/blob/main/CNN_MNIST.ipynb\" target=\"_parent\"><img src=\"https://colab.research.google.com/assets/colab-badge.svg\" alt=\"Open In Colab\"/></a>"
      ]
    },
    {
      "cell_type": "code",
      "execution_count": 18,
      "metadata": {
        "id": "d6S52TG-NJCE"
      },
      "outputs": [],
      "source": [
        "# 랜덤 시드 설정\n",
        "import numpy as np\n",
        "import tensorflow as tf\n",
        "np.random.seed(0)\n",
        "tf.random.set_seed(0)"
      ]
    },
    {
      "cell_type": "code",
      "source": [
        "# 손글씨 데이터 불러오기\n",
        "from tensorflow.keras import datasets\n",
        "# 트레이닝 데이터 세트, 테스트 데이터 세트 나눠서 불러오기\n",
        "(X_tn0,y_tn0),(X_te0,y_te0) = datasets.mnist.load_data()"
      ],
      "metadata": {
        "id": "Hy5UEf4cNYOh"
      },
      "execution_count": 19,
      "outputs": []
    },
    {
      "cell_type": "code",
      "source": [
        "# 원본 데이터 차원 확인\n",
        "print(X_tn0.shape)\n",
        "print(y_tn0.shape)\n",
        "print(X_te0.shape)\n",
        "print(y_te0.shape)"
      ],
      "metadata": {
        "colab": {
          "base_uri": "https://localhost:8080/"
        },
        "id": "x3NKKSFuNz7C",
        "outputId": "4e4af2a4-476c-4759-9205-940137e71bcd"
      },
      "execution_count": 20,
      "outputs": [
        {
          "output_type": "stream",
          "name": "stdout",
          "text": [
            "(60000, 28, 28)\n",
            "(60000,)\n",
            "(10000, 28, 28)\n",
            "(10000,)\n"
          ]
        }
      ]
    },
    {
      "cell_type": "markdown",
      "source": [
        "- 트레이닝 피처 데이터 = 28행과 28열의 60000개 데이터로 구성\n",
        "- 타깃 트레이닝 데이터 = 스칼라값 60000개로 이루어짐\n",
        "- 트레이닝 피처 데이터 = 28행과 28열의 10000개 데이터로 구성\n",
        "- 타깃 트레이닝 데이터 = 스칼라값 10000개로 이루어짐"
      ],
      "metadata": {
        "id": "FmkT_xRKOLVd"
      }
    },
    {
      "cell_type": "code",
      "source": [
        "# 원본 데이터 시각화\n",
        "import matplotlib.pyplot as plt\n",
        "plt.figure(figsize=(10,5))\n",
        "for i in range(2*5):\n",
        "  plt.subplot(2, 5, i+1)\n",
        "  plt.imshow(X_tn0[i].reshape((28,28)), cmap='Greys')\n",
        "plt.show"
      ],
      "metadata": {
        "colab": {
          "base_uri": "https://localhost:8080/",
          "height": 313
        },
        "id": "O40pKWKlOGsE",
        "outputId": "1c5f3a2c-1817-41a8-8a3a-7d156fbca134"
      },
      "execution_count": 21,
      "outputs": [
        {
          "output_type": "execute_result",
          "data": {
            "text/plain": [
              "<function matplotlib.pyplot.show>"
            ]
          },
          "metadata": {},
          "execution_count": 21
        },
        {
          "output_type": "display_data",
          "data": {
            "image/png": "[encoded data removed]",
            "text/plain": [
              "<Figure size 720x360 with 10 Axes>"
            ]
          },
          "metadata": {
            "needs_background": "light"
          }
        }
      ]
    },
    {
      "cell_type": "code",
      "source": [
        "# 타깃 클래스 확인\n",
        "set(y_tn0)"
      ],
      "metadata": {
        "colab": {
          "base_uri": "https://localhost:8080/"
        },
        "id": "WLDl54qwO-_n",
        "outputId": "780a7bef-5b64-4e5e-a2e7-f8523478410c"
      },
      "execution_count": 22,
      "outputs": [
        {
          "output_type": "execute_result",
          "data": {
            "text/plain": [
              "{0, 1, 2, 3, 4, 5, 6, 7, 8, 9}"
            ]
          },
          "metadata": {},
          "execution_count": 22
        }
      ]
    },
    {
      "cell_type": "markdown",
      "source": [
        "타깃 데이터의 종류를 확인하면 손글씨를 어떤 형태로 구분하는지, 총 몇 가지 숫자를 구분하는지 알 수 있음. 0~9까지 숫자를 구분"
      ],
      "metadata": {
        "id": "ZXscWBW5PMZj"
      }
    },
    {
      "cell_type": "code",
      "source": [
        "# 피처 데이터 스케일 조정\n",
        "# 마지막에 채널 추가 (채널 1개)\n",
        "X_tn_re = X_tn0.reshape(60000, 28, 28, 1)\n",
        "X_tn = X_tn_re/255 # 최대값이 1이 되도록 조정해주면 딥러닝 성능 좋아짐\n",
        "print(X_tn.shape)"
      ],
      "metadata": {
        "colab": {
          "base_uri": "https://localhost:8080/"
        },
        "id": "HJ6Iv1EbPLPl",
        "outputId": "0910a6ae-6c36-462b-fcb7-cb8785910759"
      },
      "execution_count": 23,
      "outputs": [
        {
          "output_type": "stream",
          "name": "stdout",
          "text": [
            "(60000, 28, 28, 1)\n"
          ]
        }
      ]
    },
    {
      "cell_type": "code",
      "source": [
        "X_te_re = X_te0.reshape(10000, 28, 28, 1)\n",
        "X_te = X_te_re/255\n",
        "print(X_te.shape)"
      ],
      "metadata": {
        "colab": {
          "base_uri": "https://localhost:8080/"
        },
        "id": "FqEfLG3uQibb",
        "outputId": "153ad1a0-967c-4948-ed2d-0f888e02b535"
      },
      "execution_count": 24,
      "outputs": [
        {
          "output_type": "stream",
          "name": "stdout",
          "text": [
            "(10000, 28, 28, 1)\n"
          ]
        }
      ]
    },
    {
      "cell_type": "code",
      "source": [
        "# 타깃 데이터 원-핫 인코딩으로 표현\n",
        "from tensorflow.keras.utils import to_categorical\n",
        "y_tn = to_categorical(y_tn0)\n",
        "y_te = to_categorical(y_te0)"
      ],
      "metadata": {
        "id": "BJnRdvuQQpkK"
      },
      "execution_count": 25,
      "outputs": []
    },
    {
      "cell_type": "code",
      "source": [
        "from tensorflow.python.keras.layers.convolutional import Conv2DTranspose\n",
        "# 합성곱 신경망 생성\n",
        "from tensorflow.keras.models import Sequential\n",
        "from tensorflow.keras.layers import Dense, Conv2D\n",
        "from tensorflow.keras.layers import MaxPool2D, Flatten\n",
        "from tensorflow.keras.layers import Dropout\n",
        "\n",
        "n_class = len(set(y_tn0))\n",
        "\n",
        "model = Sequential()\n",
        "model.add(Conv2D(32, kernel_size=(5,5), input_shape=(28,28,1), padding='valid', activation='relu'))\n",
        "model.add(MaxPool2D(pool_size=(2, 2)))\n",
        "model.add(Dropout(0.25))\n",
        "model.add(Conv2D(32, kernel_size=(3,3), input_shape=(28,28,1), padding='valid', activation='relu'))\n",
        "model.add(MaxPool2D(pool_size=(2,2)))\n",
        "model.add(Dropout(0.25))\n",
        "model.add(Flatten()) # 행렬 형태를 벡터 형태로 펼쳐주기\n",
        "model.add(Dense(1024, activation='relu')) # 신경망 층 추가\n",
        "model.add(Dropout(0.5)) \n",
        "model.add(Dense(n_class, activation='softmax')) # 최종출력층 추가\n",
        "model.summary()"
      ],
      "metadata": {
        "colab": {
          "base_uri": "https://localhost:8080/"
        },
        "id": "pGBYnwl7RLm6",
        "outputId": "c2766d43-e208-4194-d4fe-986e83f76095"
      },
      "execution_count": 26,
      "outputs": [
        {
          "output_type": "stream",
          "name": "stdout",
          "text": [
            "Model: \"sequential_2\"\n",
            "_________________________________________________________________\n",
            " Layer (type)                Output Shape              Param #   \n",
            "=================================================================\n",
            " conv2d_3 (Conv2D)           (None, 24, 24, 32)        832       \n",
            "                                                                 \n",
            " max_pooling2d_2 (MaxPooling  (None, 12, 12, 32)       0         \n",
            " 2D)                                                             \n",
            "                                                                 \n",
            " dropout_3 (Dropout)         (None, 12, 12, 32)        0         \n",
            "                                                                 \n",
            " conv2d_4 (Conv2D)           (None, 10, 10, 32)        9248      \n",
            "                                                                 \n",
            " max_pooling2d_3 (MaxPooling  (None, 5, 5, 32)         0         \n",
            " 2D)                                                             \n",
            "                                                                 \n",
            " dropout_4 (Dropout)         (None, 5, 5, 32)          0         \n",
            "                                                                 \n",
            " flatten_1 (Flatten)         (None, 800)               0         \n",
            "                                                                 \n",
            " dense_2 (Dense)             (None, 1024)              820224    \n",
            "                                                                 \n",
            " dropout_5 (Dropout)         (None, 1024)              0         \n",
            "                                                                 \n",
            " dense_3 (Dense)             (None, 10)                10250     \n",
            "                                                                 \n",
            "=================================================================\n",
            "Total params: 840,554\n",
            "Trainable params: 840,554\n",
            "Non-trainable params: 0\n",
            "_________________________________________________________________\n"
          ]
        }
      ]
    },
    {
      "cell_type": "code",
      "source": [
        "# 모형 컴파일\n",
        "# 다중 분류 작업 : 손실함수를 categoricl_crossentropy로\n",
        "model.compile(loss='categorical_crossentropy', optimizer='adam', metrics=['accuracy'])"
      ],
      "metadata": {
        "id": "S7uT9ErqTv-S"
      },
      "execution_count": 27,
      "outputs": []
    },
    {
      "cell_type": "code",
      "source": [
        "# 학습\n",
        "hist = model.fit(X_tn, y_tn, epochs=3, batch_size=100)"
      ],
      "metadata": {
        "colab": {
          "base_uri": "https://localhost:8080/"
        },
        "id": "NXBApofBVWyL",
        "outputId": "2258b2e4-1988-46cc-c253-1fb788938db8"
      },
      "execution_count": 28,
      "outputs": [
        {
          "output_type": "stream",
          "name": "stdout",
          "text": [
            "Epoch 1/3\n",
            "600/600 [==============================] - 70s 116ms/step - loss: 0.2284 - accuracy: 0.9290\n",
            "Epoch 2/3\n",
            "600/600 [==============================] - 53s 89ms/step - loss: 0.0751 - accuracy: 0.9758\n",
            "Epoch 3/3\n",
            "600/600 [==============================] - 54s 90ms/step - loss: 0.0571 - accuracy: 0.9824\n"
          ]
        }
      ]
    },
    {
      "cell_type": "code",
      "source": [
        "# 평가\n",
        "print(model.evaluate(X_tn, y_tn)[1])\n",
        "print(model.evaluate(X_te, y_te)[1])"
      ],
      "metadata": {
        "colab": {
          "base_uri": "https://localhost:8080/"
        },
        "id": "c54-ek8XXXXK",
        "outputId": "d56c7be9-8021-4f6b-915b-3574009b6057"
      },
      "execution_count": 29,
      "outputs": [
        {
          "output_type": "stream",
          "name": "stdout",
          "text": [
            "1875/1875 [==============================] - 19s 10ms/step - loss: 0.0279 - accuracy: 0.9915\n",
            "0.9914666414260864\n",
            "313/313 [==============================] - 4s 11ms/step - loss: 0.0302 - accuracy: 0.9903\n",
            "0.9902999997138977\n"
          ]
        }
      ]
    },
    {
      "cell_type": "code",
      "source": [
        "# 테스트 데이터로 확인해보기\n",
        "# 생성된 모델에 테스트 데이터 넣어 예측값 구하기\n",
        "y_pred_hot = model.predict(X_te)"
      ],
      "metadata": {
        "id": "9Afv0_7SVc3I"
      },
      "execution_count": 31,
      "outputs": []
    },
    {
      "cell_type": "code",
      "source": [
        "import numpy as np\n",
        "# one-hot encoding 다시 숫자로 변환\n",
        "y_pred = np.argmax(y_pred_hot, axis=1)\n",
        "print(y_pred)"
      ],
      "metadata": {
        "colab": {
          "base_uri": "https://localhost:8080/"
        },
        "id": "MEBpmHgQn1qP",
        "outputId": "46ac9e65-64f7-46a7-8c7f-7e02fac038dc"
      },
      "execution_count": 32,
      "outputs": [
        {
          "output_type": "stream",
          "name": "stdout",
          "text": [
            "[7 2 1 ... 4 5 6]\n"
          ]
        }
      ]
    },
    {
      "cell_type": "code",
      "source": [
        "# 두 번째 데이터 잘 예측 되었는지 확인해보기\n",
        "import matplotlib.pyplot as plt\n",
        "plt.figure(figsize=(3,3))\n",
        "plt.imshow(X_te0[1].reshape((28,28)), cmap='Greys')\n",
        "print('두 번째 데이터 예측 값 : ', y_pred[1])\n",
        "plt.show"
      ],
      "metadata": {
        "colab": {
          "base_uri": "https://localhost:8080/",
          "height": 248
        },
        "id": "-vQFE3mUqnxR",
        "outputId": "18941ca4-f5cc-4f84-c17a-af4f79103563"
      },
      "execution_count": 35,
      "outputs": [
        {
          "output_type": "stream",
          "name": "stdout",
          "text": [
            "두 번째 데이터 예측 값 :  2\n"
          ]
        },
        {
          "output_type": "execute_result",
          "data": {
            "text/plain": [
              "<function matplotlib.pyplot.show>"
            ]
          },
          "metadata": {},
          "execution_count": 35
        },
        {
          "output_type": "display_data",
          "data": {
            "image/png": "[encoded data removed]",
            "text/plain": [
              "<Figure size 216x216 with 1 Axes>"
            ]
          },
          "metadata": {
            "needs_background": "light"
          }
        }
      ]
    },
    {
      "cell_type": "code",
      "source": [
        "# 오답 데이터 확인\n",
        "diff = y_te0 - y_pred\n",
        "diff_idx = []\n",
        "y_len = len(y_te0)\n",
        "for i in range(0, y_len):\n",
        "  if(diff[i]!=0):\n",
        "    diff_idx.append(i)"
      ],
      "metadata": {
        "id": "zL-ctRZerkJ1"
      },
      "execution_count": 36,
      "outputs": []
    },
    {
      "cell_type": "code",
      "source": [
        "# 오답 데이터 시각화\n",
        "plt.figure(figsize=(10,5))\n",
        "for i in range(2*5):\n",
        "  plt.subplot(2,5,i+1)\n",
        "  raw_idx = diff_idx[i]\n",
        "  plt.imshow(X_te0[raw_idx].reshape((28,28)), cmap='Greys')\n",
        "plt.show"
      ],
      "metadata": {
        "colab": {
          "base_uri": "https://localhost:8080/",
          "height": 313
        },
        "id": "2DcLhFSusI8x",
        "outputId": "f3efd152-f759-4648-91fb-5a035a7e4a04"
      },
      "execution_count": 38,
      "outputs": [
        {
          "output_type": "execute_result",
          "data": {
            "text/plain": [
              "<function matplotlib.pyplot.show>"
            ]
          },
          "metadata": {},
          "execution_count": 38
        },
        {
          "output_type": "display_data",
          "data": {
            "image/png": "[encoded data removed]",
            "text/plain": [
              "<Figure size 720x360 with 10 Axes>"
            ]
          },
          "metadata": {
            "needs_background": "light"
          }
        }
      ]
    },
    {
      "cell_type": "markdown",
      "source": [
        "오답 데이터들은 육안으로 숫자를 구분하기 어려운 데이터들."
      ],
      "metadata": {
        "id": "Y0_OAaPRsi1v"
      }
    }
  ]
}